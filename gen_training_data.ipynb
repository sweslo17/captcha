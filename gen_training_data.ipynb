{
 "cells": [
  {
   "cell_type": "code",
   "execution_count": 1,
   "metadata": {
    "collapsed": true
   },
   "outputs": [],
   "source": [
    "# import the necessary packages\n",
    "from imutils.perspective import four_point_transform\n",
    "from imutils import contours\n",
    "import imutils\n",
    "import cv2\n",
    "import PIL\n",
    "from PIL import ImageEnhance\n",
    "import numpy as np\n",
    "from PIL import ImageFont, ImageDraw, Image \n",
    "import os\n",
    "\n",
    "%matplotlib inline\n",
    "from matplotlib import pyplot as plt"
   ]
  },
  {
   "cell_type": "code",
   "execution_count": 129,
   "metadata": {
    "collapsed": false
   },
   "outputs": [],
   "source": [
    "\n",
    "\n",
    "\n",
    "txt = \"5\"\n",
    "\n",
    "\n",
    "image = Image.new(\"RGB\", font.getsize(txt), (0,0,0))\n",
    "draw = ImageDraw.Draw(image)\n",
    "\n",
    "draw.text((-3,2), txt, font=font)"
   ]
  },
  {
   "cell_type": "code",
   "execution_count": 132,
   "metadata": {
    "collapsed": false
   },
   "outputs": [
    {
     "data": {
      "text/plain": [
       "(13, 22)"
      ]
     },
     "execution_count": 132,
     "metadata": {},
     "output_type": "execute_result"
    }
   ],
   "source": [
    "#img2 = image.rotate(-60, expand=1)\n",
    "image.size"
   ]
  },
  {
   "cell_type": "code",
   "execution_count": 131,
   "metadata": {
    "collapsed": false
   },
   "outputs": [
    {
     "data": {
      "text/plain": [
       "<matplotlib.image.AxesImage at 0x113f2a470>"
      ]
     },
     "execution_count": 131,
     "metadata": {},
     "output_type": "execute_result"
    },
    {
     "data": {
      "image/png": "[encoded data removed]",
      "text/plain": [
       "<matplotlib.figure.Figure at 0x113eb15f8>"
      ]
     },
     "metadata": {},
     "output_type": "display_data"
    }
   ],
   "source": [
    "plt.imshow(image)"
   ]
  },
  {
   "cell_type": "code",
   "execution_count": 2,
   "metadata": {
    "collapsed": true
   },
   "outputs": [],
   "source": [
    "def rotate_img(image, min_angle, max_angle, step):\n",
    "    for angle in range(min_angle, max_angle, step):\n",
    "        output_img = image.rotate(angle, expand=1)\n",
    "        yield output_img, angle"
   ]
  },
  {
   "cell_type": "code",
   "execution_count": 4,
   "metadata": {
    "collapsed": false
   },
   "outputs": [],
   "source": [
    "font = ImageFont.truetype(\"/Library/Fonts/Times New Roman Bold.ttf\",25)\n",
    "\n",
    "for num in range(0,10):\n",
    "    for x in range(-3,3,2):\n",
    "        for y in range(-7,3,2):\n",
    "            image = Image.new(\"RGB\", font.getsize(str(num)), (0,0,0))\n",
    "            draw = ImageDraw.Draw(image)\n",
    "            draw.text((x,y), str(num), font=font)\n",
    "            for output_image, angle in rotate_img(image, -60,60,5):\n",
    "                if not os.path.exists('training2/{}'.format(num)):\n",
    "                    os.makedirs('training2/{}'.format(num))\n",
    "                output_image.save('training2/{}/{}_{}_{}_{}_TNRB.jpg'.format(num, num, x, y, angle))"
   ]
  },
  {
   "cell_type": "code",
   "execution_count": 29,
   "metadata": {
    "collapsed": false
   },
   "outputs": [
    {
     "data": {
      "text/plain": [
       "<matplotlib.image.AxesImage at 0x11418ce48>"
      ]
     },
     "execution_count": 29,
     "metadata": {},
     "output_type": "execute_result"
    },
    {
     "data": {
      "image/png": "[encoded data removed]",
      "text/plain": [
       "<matplotlib.figure.Figure at 0x11287a588>"
      ]
     },
     "metadata": {},
     "output_type": "display_data"
    }
   ],
   "source": [
    "from utils import preprocess_bw\n",
    "from utils import pil_img_to_opencv\n",
    "\n",
    "plt.imshow(output_image)"
   ]
  },
  {
   "cell_type": "code",
   "execution_count": null,
   "metadata": {
    "collapsed": true
   },
   "outputs": [],
   "source": []
  }
 ],
 "metadata": {
  "kernelspec": {
   "display_name": "Python 3",
   "language": "python",
   "name": "python3"
  },
  "language_info": {
   "codemirror_mode": {
    "name": "ipython",
    "version": 3
   },
   "file_extension": ".py",
   "mimetype": "text/x-python",
   "name": "python",
   "nbconvert_exporter": "python",
   "pygments_lexer": "ipython3",
   "version": "3.5.2"
  }
 },
 "nbformat": 4,
 "nbformat_minor": 0
}
